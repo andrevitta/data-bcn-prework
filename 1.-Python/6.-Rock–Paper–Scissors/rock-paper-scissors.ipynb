{
 "cells": [
  {
   "cell_type": "markdown",
   "metadata": {},
   "source": [
    "<img src=\"https://bit.ly/2VnXWr2\" width=\"100\" align=\"left\">"
   ]
  },
  {
   "cell_type": "markdown",
   "metadata": {},
   "source": [
    "# Rock, Paper & Scissors\n",
    "\n",
    "Let's play the famous game against our computer. You can check the rules [here](https://en.wikipedia.org/wiki/Rock%E2%80%93paper%E2%80%93scissors). \n",
    "\n",
    "## Task\n",
    "Create a program that imitates the playability of the well known game of rock, paper, scissors. Follow the guidelines provided.\n",
    "\n",
    "## Tools\n",
    "1. Loop: **for/while**\n",
    "2. Functions: **input(), print()...**\n",
    "3. Conditional statements: **if, elif, else**\n",
    "4. Definition of functions. Modular programming\n",
    "5. Import modules\n",
    "\n",
    "**To solve this challenge, the use of functions is recommended.**\n",
    "\n",
    "#### 1. Import the choice function of the random module."
   ]
  },
  {
   "cell_type": "code",
   "execution_count": 2,
   "metadata": {},
   "outputs": [],
   "source": [
    "from random import choice"
   ]
  },
  {
   "cell_type": "markdown",
   "metadata": {},
   "source": [
    "#### 2. Create a list that includes the 3 possible gesture options of the game: 'rock', 'paper' or 'scissors'. Store the list in a variable called `gestures`."
   ]
  },
  {
   "cell_type": "code",
   "execution_count": 3,
   "metadata": {},
   "outputs": [],
   "source": [
    "gestures = [ 'rock', 'paper','scissors']"
   ]
  },
  {
   "cell_type": "markdown",
   "metadata": {},
   "source": [
    "#### 3. Create a variable called `n_rounds` to store the maximum number of rounds to play in a game. \n",
    "Remember that the number of rounds must be odd: 1, 3, 5, ..."
   ]
  },
  {
   "cell_type": "code",
   "execution_count": 4,
   "metadata": {},
   "outputs": [],
   "source": [
    "n_rounds = 5"
   ]
  },
  {
   "cell_type": "markdown",
   "metadata": {},
   "source": [
    "#### 4. Create a variable called `rounds_to_win` to store the number of rounds that a player must win to win the game.\n",
    "**Hint**: the value stored in `rounds_to_win` depends on the value of `n_rounds`. "
   ]
  },
  {
   "cell_type": "code",
   "execution_count": 5,
   "metadata": {},
   "outputs": [],
   "source": [
    "rounds_to_win = 3"
   ]
  },
  {
   "cell_type": "markdown",
   "metadata": {},
   "source": [
    "5. Create two variables to store the number of rounds that the computer and the player have won. Call these variables `cpu_score` and `player_score`."
   ]
  },
  {
   "cell_type": "code",
   "execution_count": 6,
   "metadata": {},
   "outputs": [],
   "source": [
    "cpu_score = 0\n",
    "player_score = 0"
   ]
  },
  {
   "cell_type": "markdown",
   "metadata": {},
   "source": [
    "#### 6. Define a function that randomly returns one of the 3 gesture options.\n",
    "You will use this function to simulate the gesture choice of the computer. "
   ]
  },
  {
   "cell_type": "code",
   "execution_count": 7,
   "metadata": {},
   "outputs": [],
   "source": [
    "def cpu_pick(gestures):\n",
    "    return choice(gestures)"
   ]
  },
  {
   "cell_type": "markdown",
   "metadata": {},
   "source": [
    "#### 7. Define a function that asks the player which is the gesture he or she wants to show: 'rock', 'paper' or 'scissors'.\n",
    "The player should only be allowed to choose one of the 3 gesture options. If the player's choice is not rock, paper or scissors, keep asking until it is."
   ]
  },
  {
   "cell_type": "code",
   "execution_count": 20,
   "metadata": {},
   "outputs": [],
   "source": [
    "def player_pick(gestures):\n",
    "    final = 0\n",
    "    while final == 0:\n",
    "        print(\"              ### NEW ROUND PLAY ###\")\n",
    "        # Print the options\n",
    "        for i in gestures:\n",
    "            print(i)\n",
    "    \n",
    "        # request pick\n",
    "        pick = input(\"Choose of of the options above: \")\n",
    "    \n",
    "        # test if is a valid pick\n",
    "        if any( pick==opt for opt in gestures ):\n",
    "            final = 1\n",
    "        else:\n",
    "            print ( \"        Invalid option choose again\")\n",
    "    return pick"
   ]
  },
  {
   "cell_type": "markdown",
   "metadata": {},
   "source": [
    "#### 8. Define a function that checks who won a round. \n",
    "The function should return 0 if there is a tie, 1 if the computer wins and 2 if the player wins."
   ]
  },
  {
   "cell_type": "code",
   "execution_count": 9,
   "metadata": {},
   "outputs": [],
   "source": [
    "def victory_check(p1,p2):\n",
    "    \n",
    "    # returns 1 if player 1 (p1) wins\n",
    "    # returns 2 if player 2 (p2)wins\n",
    "    # returns 0 if ties\n",
    "    if p1 == p2:\n",
    "        return 0\n",
    "# player 1 choose rock\n",
    "    elif p1 == 'rock' and p2 == 'scissors':\n",
    "        return  1\n",
    "    elif p1 == 'rock' and p2 == 'paper':\n",
    "        return  2\n",
    "# player 1 choose paper       \n",
    "    elif p1 == 'paper' and p2== 'rock':\n",
    "        return  1\n",
    "    elif p1 == 'paper' and p2== 'scissors':\n",
    "        return  2\n",
    "# player 1 choose scissors      \n",
    "    elif p1 == 'scissors' and p2 == 'paper':\n",
    "        return  1\n",
    "    elif p1 == 'scissors' and p2 == 'rock':\n",
    "        return  2"
   ]
  },
  {
   "cell_type": "markdown",
   "metadata": {},
   "source": [
    " 9. Define a function that prints the choice of the computer, the choice of the player and a message that announces who won the current round. \n",
    "You should also use this function to update the variables that count the number of rounds that the computer and the player have won. The score of the winner increases by one point. If there is a tie, the score does not increase."
   ]
  },
  {
   "cell_type": "code",
   "execution_count": 10,
   "metadata": {},
   "outputs": [],
   "source": [
    "def round_victory(player,cpu,player_score,cpu_score):\n",
    "\n",
    "    print('Player : ',player)\n",
    "    print( 'CPU : ',cpu)\n",
    "    \n",
    "    round = victory_check(player,cpu)\n",
    "    \n",
    "    if round == 1:\n",
    "        print(\"Player Won\")\n",
    "        player_score += 1\n",
    "    elif round == 2:\n",
    "        print('CPU won')\n",
    "        cpu_score += 1\n",
    "    elif round == 0:\n",
    "        print( 'That was a tie')  \n",
    "    return player_score,cpu_score"
   ]
  },
  {
   "cell_type": "markdown",
   "metadata": {},
   "source": [
    "#### 10. Now it's time to code the execution of the game using the functions and variables you defined above. \n",
    "\n",
    "First, create a loop structure that repeats while no player reaches the minimum score necessary to win and the number of rounds is less than the maximum number of rounds to play in a game.  \n",
    "\n",
    "Inside the loop, use the functions and variables above to create the execution of a round: ask for the player's choice, generate the random choice of the computer, show the round results, update the scores, etc. "
   ]
  },
  {
   "cell_type": "code",
   "execution_count": 11,
   "metadata": {},
   "outputs": [
    {
     "name": "stdout",
     "output_type": "stream",
     "text": [
      "### NEW ROUND PLAY ###\n",
      "rock\n",
      "paper\n",
      "scissors\n",
      "Choose of of the options above: rock\n",
      "Player :  rock\n",
      "CPU :  rock\n",
      "That was a tie\n",
      "SCORE: Player 0  CPU  0\n",
      "### NEW ROUND PLAY ###\n",
      "rock\n",
      "paper\n",
      "scissors\n",
      "Choose of of the options above: rock\n",
      "Player :  rock\n",
      "CPU :  rock\n",
      "That was a tie\n",
      "SCORE: Player 0  CPU  0\n",
      "### NEW ROUND PLAY ###\n",
      "rock\n",
      "paper\n",
      "scissors\n",
      "Choose of of the options above: rock\n",
      "Player :  rock\n",
      "CPU :  scissors\n",
      "Player Won\n",
      "SCORE: Player 1  CPU  0\n",
      "### NEW ROUND PLAY ###\n",
      "rock\n",
      "paper\n",
      "scissors\n",
      "Choose of of the options above: rock\n",
      "Player :  rock\n",
      "CPU :  rock\n",
      "That was a tie\n",
      "SCORE: Player 1  CPU  0\n",
      "### NEW ROUND PLAY ###\n",
      "rock\n",
      "paper\n",
      "scissors\n",
      "Choose of of the options above: rock\n",
      "Player :  rock\n",
      "CPU :  rock\n",
      "That was a tie\n",
      "SCORE: Player 1  CPU  0\n",
      "### NEW ROUND PLAY ###\n",
      "rock\n",
      "paper\n",
      "scissors\n",
      "Choose of of the options above: paper\n",
      "Player :  paper\n",
      "CPU :  paper\n",
      "That was a tie\n",
      "SCORE: Player 1  CPU  0\n",
      "### NEW ROUND PLAY ###\n",
      "rock\n",
      "paper\n",
      "scissors\n",
      "Choose of of the options above: rock\n",
      "Player :  rock\n",
      "CPU :  scissors\n",
      "Player Won\n",
      "SCORE: Player 2  CPU  0\n",
      "### NEW ROUND PLAY ###\n",
      "rock\n",
      "paper\n",
      "scissors\n",
      "Choose of of the options above: rock\n",
      "Player :  rock\n",
      "CPU :  rock\n",
      "That was a tie\n",
      "SCORE: Player 2  CPU  0\n",
      "### NEW ROUND PLAY ###\n",
      "rock\n",
      "paper\n",
      "scissors\n",
      "Choose of of the options above: paper\n",
      "Player :  paper\n",
      "CPU :  rock\n",
      "Player Won\n",
      "SCORE: Player 3  CPU  0\n"
     ]
    }
   ],
   "source": [
    "match_winner =[]\n",
    "while match_winner == [] :\n",
    "    \n",
    "    player_score,cpu_score = round_victory(player_pick(gestures),cpu_pick(gestures),player_score,cpu_score)\n",
    "    \n",
    "    print('SCORE: Player',player_score,' CPU ', cpu_score)\n",
    "    \n",
    "    if player_score == rounds_to_win:\n",
    "        match_winner = 'Player Won'    \n",
    "    elif cpu_score == rounds_to_win:\n",
    "        match_winner = 'CPU Won'"
   ]
  },
  {
   "cell_type": "markdown",
   "metadata": {},
   "source": [
    "#### 11. Print the winner of the game based on who won more rounds.\n",
    "Remember that the game might be tied. "
   ]
  },
  {
   "cell_type": "code",
   "execution_count": 12,
   "metadata": {},
   "outputs": [
    {
     "name": "stdout",
     "output_type": "stream",
     "text": [
      "Player Won\n"
     ]
    }
   ],
   "source": [
    "print (match_winner)"
   ]
  },
  {
   "cell_type": "markdown",
   "metadata": {},
   "source": [
    "# Bonus: Rock, Paper, Scissors, Lizard & Spock\n",
    "![](images/rpsls.jpg)\n",
    "\n",
    "In this challenge, you need to improve the previous game by adding two new options. To know more about the rules of the improved version of rock, paper, scissors, check this [link](http://www.samkass.com/theories/RPSSL.html). \n",
    "\n",
    "In addition, you will also need to improve how the game interacts with the player: the number of rounds to play, which must be an odd number, will be requested to the user until a valid number is entered. Define a new function to make that request.\n",
    "\n",
    "**Hint**: Try to reuse the code that you already coded in the previous challenge. If your code is efficient, this bonus will only consist of simple modifications to the original game."
   ]
  },
  {
   "cell_type": "code",
   "execution_count": 13,
   "metadata": {},
   "outputs": [],
   "source": [
    "# redefining victory check for new parameters\n",
    "def victory_check2(p1,p2):\n",
    "    \n",
    "    # returns 1 if player 1 (p1) wins\n",
    "    # returns 2 if player 2 (p2)wins\n",
    "    # returns 0 if ties\n",
    "    if p1 == p2:\n",
    "        return 0\n",
    "# player 1 choose rock\n",
    "    elif p1 == 'rock' and p2 == 'scissors':\n",
    "        return  1\n",
    "    elif p1 == 'rock' and p2 == 'paper':\n",
    "        return  2\n",
    "    elif p1 == 'rock' and p2 == 'lizard':\n",
    "        return  1\n",
    "    elif p1 == 'rock' and p2 == 'spock':\n",
    "        return  2\n",
    "# player 1 choose paper       \n",
    "    elif p1 == 'paper' and p2== 'rock':\n",
    "        return  1\n",
    "    elif p1 == 'paper' and p2== 'scissors':\n",
    "        return  2\n",
    "    elif p1 == 'paper' and p2== 'spock':\n",
    "        return  1\n",
    "    elif p1 == 'paper' and p2== 'lizard':\n",
    "        return  2\n",
    "# player 1 choose scissors      \n",
    "    elif p1 == 'scissors' and p2 == 'paper':\n",
    "        return  1\n",
    "    elif p1 == 'scissors' and p2 == 'rock':\n",
    "        return  2\n",
    "    elif p1 == 'scissors' and p2 == 'lizard':\n",
    "        return  1\n",
    "    elif p1 == 'scissors' and p2 == 'spock':\n",
    "        return  2\n",
    "# player 1 choose lizard      \n",
    "    elif p1 == 'lizard' and p2 == 'paper':\n",
    "        return  1\n",
    "    elif p1 == 'lizard' and p2 == 'rock':\n",
    "        return  2\n",
    "    elif p1 == 'lizard' and p2 == 'spock':\n",
    "        return  1\n",
    "    elif p1 == 'lizard' and p2 == 'scissors':\n",
    "        return  2\n",
    "# player 1 choose spock      \n",
    "    elif p1 == 'spock' and p2 == 'rock':\n",
    "        return  1\n",
    "    elif p1 == 'spock' and p2 == 'paper':\n",
    "        return  2\n",
    "    elif p1 == 'spock' and p2 == 'scissors':\n",
    "        return  1\n",
    "    elif p1 == 'spock' and p2 == 'lizard':\n",
    "        return  2"
   ]
  },
  {
   "cell_type": "code",
   "execution_count": 14,
   "metadata": {},
   "outputs": [],
   "source": [
    "def round_victory2(player,cpu,player_score,cpu_score):\n",
    "\n",
    "    print('Player : ',player)\n",
    "    print( 'CPU : ',cpu)\n",
    "    \n",
    "    round = victory_check2(player,cpu)\n",
    "    \n",
    "    if round == 1:\n",
    "        print(\"Player Won\")\n",
    "        player_score += 1\n",
    "    elif round == 2:\n",
    "        print('CPU won')\n",
    "        cpu_score += 1\n",
    "    elif round == 0:\n",
    "        print( 'That was a tie')  \n",
    "    return player_score,cpu_score"
   ]
  },
  {
   "cell_type": "code",
   "execution_count": 15,
   "metadata": {},
   "outputs": [],
   "source": [
    "def N_rounds():\n",
    "    i=0\n",
    "    import math\n",
    "    \n",
    "    while i == 0:\n",
    "        n_rounds = int( input(\"Enter the Number of rounds: \") )\n",
    "        if n_rounds%2:\n",
    "            rounds_to_win = math.ceil(n_rounds/2)\n",
    "            break\n",
    "        else:\n",
    "            print( \"Number of rounds must be odd\")\n",
    "    return n_rounds,rounds_to_win"
   ]
  },
  {
   "cell_type": "code",
   "execution_count": 21,
   "metadata": {},
   "outputs": [
    {
     "name": "stdout",
     "output_type": "stream",
     "text": [
      "Enter the Number of rounds: 5\n",
      "              ### NEW ROUND PLAY ###\n",
      "rock\n",
      "paper\n",
      "scissors\n",
      "spock\n",
      "lizard\n",
      "Choose of of the options above: rock\n",
      "Player :  rock\n",
      "CPU :  spock\n",
      "CPU won\n",
      "SCORE: Player 0  CPU  1\n",
      "              ### NEW ROUND PLAY ###\n",
      "rock\n",
      "paper\n",
      "scissors\n",
      "spock\n",
      "lizard\n",
      "Choose of of the options above: lizard\n",
      "Player :  lizard\n",
      "CPU :  spock\n",
      "Player Won\n",
      "SCORE: Player 1  CPU  1\n",
      "              ### NEW ROUND PLAY ###\n",
      "rock\n",
      "paper\n",
      "scissors\n",
      "spock\n",
      "lizard\n",
      "Choose of of the options above: lizard\n",
      "Player :  lizard\n",
      "CPU :  lizard\n",
      "That was a tie\n",
      "SCORE: Player 1  CPU  1\n",
      "              ### NEW ROUND PLAY ###\n",
      "rock\n",
      "paper\n",
      "scissors\n",
      "spock\n",
      "lizard\n",
      "Choose of of the options above: spock\n",
      "Player :  spock\n",
      "CPU :  rock\n",
      "Player Won\n",
      "SCORE: Player 2  CPU  1\n",
      "              ### NEW ROUND PLAY ###\n",
      "rock\n",
      "paper\n",
      "scissors\n",
      "spock\n",
      "lizard\n",
      "Choose of of the options above: spock\n",
      "Player :  spock\n",
      "CPU :  rock\n",
      "Player Won\n",
      "SCORE: Player 3  CPU  1\n",
      "Player Won\n"
     ]
    }
   ],
   "source": [
    "# building the match\n",
    "gestures = [ 'rock', 'paper','scissors','spock','lizard']\n",
    "cpu_score = 0\n",
    "player_score = 0\n",
    "match_winner =[]\n",
    "n_rounds,rounds_to_win = N_rounds()\n",
    "\n",
    "while match_winner == [] :\n",
    "    \n",
    "    player_score,cpu_score = round_victory2(player_pick(gestures),cpu_pick(gestures),player_score,cpu_score)\n",
    "    \n",
    "    print('SCORE: Player',player_score,' CPU ', cpu_score)\n",
    "    \n",
    "    if player_score == rounds_to_win:\n",
    "        match_winner = 'Player Won'    \n",
    "    elif cpu_score == rounds_to_win:\n",
    "        match_winner = 'CPU Won'\n",
    "print (match_winner)"
   ]
  },
  {
   "cell_type": "code",
   "execution_count": null,
   "metadata": {},
   "outputs": [],
   "source": []
  },
  {
   "cell_type": "code",
   "execution_count": null,
   "metadata": {},
   "outputs": [],
   "source": []
  }
 ],
 "metadata": {
  "kernelspec": {
   "display_name": "Python 3",
   "language": "python",
   "name": "python3"
  },
  "language_info": {
   "codemirror_mode": {
    "name": "ipython",
    "version": 3
   },
   "file_extension": ".py",
   "mimetype": "text/x-python",
   "name": "python",
   "nbconvert_exporter": "python",
   "pygments_lexer": "ipython3",
   "version": "3.7.3"
  }
 },
 "nbformat": 4,
 "nbformat_minor": 2
}
